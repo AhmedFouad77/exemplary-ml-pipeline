{
 "cells": [
  {
   "cell_type": "markdown",
   "metadata": {},
   "source": [
    "# (1) Manual Data Cleaning and Engineering\n",
    "\n",
    "This introductory notebook focuses on the following aspects of a data processing pipeline, and hopefully proves that these steps are vital to any data application:\n",
    "* **Data Insights & Visualizations**\n",
    "* **Data Cleaning**\n",
    "* **Data Imputation**\n",
    "* **Manual Feature Engineering**"
   ]
  },
  {
   "cell_type": "code",
   "execution_count": 1,
   "metadata": {},
   "outputs": [],
   "source": [
    "import numpy as np\n",
    "import pandas as pd\n",
    "from utils import groupby_and_gather, age_to_age_bucket, unknown_to_nan\n",
    "from imputers import KNNImputer\n",
    "\n",
    "import matplotlib.pyplot as plt\n",
    "import seaborn as sns\n",
    "%matplotlib inline\n",
    "sns.set_style(\"white\", {'ytick.major.size': 8.0})\n",
    "sns.set_context(\"poster\", font_scale=0.8)"
   ]
  },
  {
   "cell_type": "markdown",
   "metadata": {},
   "source": [
    "## Reading & Getting to Know the Data\n",
    "Let's read in data and observe the kind of information we are being given."
   ]
  },
  {
   "cell_type": "code",
   "execution_count": 2,
   "metadata": {},
   "outputs": [
    {
     "data": {
      "text/html": [
       "<div>\n",
       "<style scoped>\n",
       "    .dataframe tbody tr th:only-of-type {\n",
       "        vertical-align: middle;\n",
       "    }\n",
       "\n",
       "    .dataframe tbody tr th {\n",
       "        vertical-align: top;\n",
       "    }\n",
       "\n",
       "    .dataframe thead th {\n",
       "        text-align: right;\n",
       "    }\n",
       "</style>\n",
       "<table border=\"1\" class=\"dataframe\">\n",
       "  <thead>\n",
       "    <tr style=\"text-align: right;\">\n",
       "      <th></th>\n",
       "      <th>id</th>\n",
       "      <th>date_account_created</th>\n",
       "      <th>timestamp_first_active</th>\n",
       "      <th>date_first_booking</th>\n",
       "      <th>gender</th>\n",
       "      <th>age</th>\n",
       "      <th>signup_method</th>\n",
       "      <th>signup_flow</th>\n",
       "      <th>language</th>\n",
       "      <th>affiliate_channel</th>\n",
       "      <th>affiliate_provider</th>\n",
       "      <th>first_affiliate_tracked</th>\n",
       "      <th>signup_app</th>\n",
       "      <th>first_device_type</th>\n",
       "      <th>first_browser</th>\n",
       "      <th>country_destination</th>\n",
       "    </tr>\n",
       "  </thead>\n",
       "  <tbody>\n",
       "    <tr>\n",
       "      <th>0</th>\n",
       "      <td>gxn3p5htnn</td>\n",
       "      <td>2010-06-28</td>\n",
       "      <td>2009-03-19 04:32:55</td>\n",
       "      <td>NaT</td>\n",
       "      <td>-unknown-</td>\n",
       "      <td>NaN</td>\n",
       "      <td>facebook</td>\n",
       "      <td>0</td>\n",
       "      <td>en</td>\n",
       "      <td>direct</td>\n",
       "      <td>direct</td>\n",
       "      <td>untracked</td>\n",
       "      <td>Web</td>\n",
       "      <td>Mac Desktop</td>\n",
       "      <td>Chrome</td>\n",
       "      <td>NDF</td>\n",
       "    </tr>\n",
       "    <tr>\n",
       "      <th>1</th>\n",
       "      <td>820tgsjxq7</td>\n",
       "      <td>2011-05-25</td>\n",
       "      <td>2009-05-23 17:48:09</td>\n",
       "      <td>NaT</td>\n",
       "      <td>MALE</td>\n",
       "      <td>38.0</td>\n",
       "      <td>facebook</td>\n",
       "      <td>0</td>\n",
       "      <td>en</td>\n",
       "      <td>seo</td>\n",
       "      <td>google</td>\n",
       "      <td>untracked</td>\n",
       "      <td>Web</td>\n",
       "      <td>Mac Desktop</td>\n",
       "      <td>Chrome</td>\n",
       "      <td>NDF</td>\n",
       "    </tr>\n",
       "    <tr>\n",
       "      <th>2</th>\n",
       "      <td>4ft3gnwmtx</td>\n",
       "      <td>2010-09-28</td>\n",
       "      <td>2009-06-09 23:12:47</td>\n",
       "      <td>2010-08-02</td>\n",
       "      <td>FEMALE</td>\n",
       "      <td>56.0</td>\n",
       "      <td>basic</td>\n",
       "      <td>3</td>\n",
       "      <td>en</td>\n",
       "      <td>direct</td>\n",
       "      <td>direct</td>\n",
       "      <td>untracked</td>\n",
       "      <td>Web</td>\n",
       "      <td>Windows Desktop</td>\n",
       "      <td>IE</td>\n",
       "      <td>US</td>\n",
       "    </tr>\n",
       "    <tr>\n",
       "      <th>3</th>\n",
       "      <td>bjjt8pjhuk</td>\n",
       "      <td>2011-12-05</td>\n",
       "      <td>2009-10-31 06:01:29</td>\n",
       "      <td>2012-09-08</td>\n",
       "      <td>FEMALE</td>\n",
       "      <td>42.0</td>\n",
       "      <td>facebook</td>\n",
       "      <td>0</td>\n",
       "      <td>en</td>\n",
       "      <td>direct</td>\n",
       "      <td>direct</td>\n",
       "      <td>untracked</td>\n",
       "      <td>Web</td>\n",
       "      <td>Mac Desktop</td>\n",
       "      <td>Firefox</td>\n",
       "      <td>other</td>\n",
       "    </tr>\n",
       "    <tr>\n",
       "      <th>4</th>\n",
       "      <td>87mebub9p4</td>\n",
       "      <td>2010-09-14</td>\n",
       "      <td>2009-12-08 06:11:05</td>\n",
       "      <td>2010-02-18</td>\n",
       "      <td>-unknown-</td>\n",
       "      <td>41.0</td>\n",
       "      <td>basic</td>\n",
       "      <td>0</td>\n",
       "      <td>en</td>\n",
       "      <td>direct</td>\n",
       "      <td>direct</td>\n",
       "      <td>untracked</td>\n",
       "      <td>Web</td>\n",
       "      <td>Mac Desktop</td>\n",
       "      <td>Chrome</td>\n",
       "      <td>US</td>\n",
       "    </tr>\n",
       "  </tbody>\n",
       "</table>\n",
       "</div>"
      ],
      "text/plain": [
       "           id date_account_created timestamp_first_active date_first_booking  \\\n",
       "0  gxn3p5htnn           2010-06-28    2009-03-19 04:32:55                NaT   \n",
       "1  820tgsjxq7           2011-05-25    2009-05-23 17:48:09                NaT   \n",
       "2  4ft3gnwmtx           2010-09-28    2009-06-09 23:12:47         2010-08-02   \n",
       "3  bjjt8pjhuk           2011-12-05    2009-10-31 06:01:29         2012-09-08   \n",
       "4  87mebub9p4           2010-09-14    2009-12-08 06:11:05         2010-02-18   \n",
       "\n",
       "      gender   age signup_method  signup_flow language affiliate_channel  \\\n",
       "0  -unknown-   NaN      facebook            0       en            direct   \n",
       "1       MALE  38.0      facebook            0       en               seo   \n",
       "2     FEMALE  56.0         basic            3       en            direct   \n",
       "3     FEMALE  42.0      facebook            0       en            direct   \n",
       "4  -unknown-  41.0         basic            0       en            direct   \n",
       "\n",
       "  affiliate_provider first_affiliate_tracked signup_app first_device_type  \\\n",
       "0             direct               untracked        Web       Mac Desktop   \n",
       "1             google               untracked        Web       Mac Desktop   \n",
       "2             direct               untracked        Web   Windows Desktop   \n",
       "3             direct               untracked        Web       Mac Desktop   \n",
       "4             direct               untracked        Web       Mac Desktop   \n",
       "\n",
       "  first_browser country_destination  \n",
       "0        Chrome                 NDF  \n",
       "1        Chrome                 NDF  \n",
       "2            IE                  US  \n",
       "3       Firefox               other  \n",
       "4        Chrome                  US  "
      ]
     },
     "execution_count": 2,
     "metadata": {},
     "output_type": "execute_result"
    }
   ],
   "source": [
    "date_variables = ['date_account_created', 'timestamp_first_active', 'date_first_booking']\n",
    "users_df = pd.read_csv('(0)data/train_users.csv', parse_dates=date_variables)\n",
    "users_df.head()"
   ]
  },
  {
   "cell_type": "code",
   "execution_count": 3,
   "metadata": {},
   "outputs": [
    {
     "data": {
      "text/html": [
       "<div>\n",
       "<style scoped>\n",
       "    .dataframe tbody tr th:only-of-type {\n",
       "        vertical-align: middle;\n",
       "    }\n",
       "\n",
       "    .dataframe tbody tr th {\n",
       "        vertical-align: top;\n",
       "    }\n",
       "\n",
       "    .dataframe thead th {\n",
       "        text-align: right;\n",
       "    }\n",
       "</style>\n",
       "<table border=\"1\" class=\"dataframe\">\n",
       "  <thead>\n",
       "    <tr style=\"text-align: right;\">\n",
       "      <th></th>\n",
       "      <th>id</th>\n",
       "      <th>date_account_created</th>\n",
       "      <th>timestamp_first_active</th>\n",
       "      <th>date_first_booking</th>\n",
       "      <th>gender</th>\n",
       "      <th>age</th>\n",
       "      <th>signup_method</th>\n",
       "      <th>signup_flow</th>\n",
       "      <th>language</th>\n",
       "      <th>affiliate_channel</th>\n",
       "      <th>affiliate_provider</th>\n",
       "      <th>first_affiliate_tracked</th>\n",
       "      <th>signup_app</th>\n",
       "      <th>first_device_type</th>\n",
       "      <th>first_browser</th>\n",
       "    </tr>\n",
       "  </thead>\n",
       "  <tbody>\n",
       "    <tr>\n",
       "      <th>0</th>\n",
       "      <td>5uwns89zht</td>\n",
       "      <td>2014-07-01</td>\n",
       "      <td>2014-07-01 00:00:06</td>\n",
       "      <td>NaT</td>\n",
       "      <td>FEMALE</td>\n",
       "      <td>35.0</td>\n",
       "      <td>facebook</td>\n",
       "      <td>0</td>\n",
       "      <td>en</td>\n",
       "      <td>direct</td>\n",
       "      <td>direct</td>\n",
       "      <td>untracked</td>\n",
       "      <td>Moweb</td>\n",
       "      <td>iPhone</td>\n",
       "      <td>Mobile Safari</td>\n",
       "    </tr>\n",
       "    <tr>\n",
       "      <th>1</th>\n",
       "      <td>jtl0dijy2j</td>\n",
       "      <td>2014-07-01</td>\n",
       "      <td>2014-07-01 00:00:51</td>\n",
       "      <td>NaT</td>\n",
       "      <td>-unknown-</td>\n",
       "      <td>NaN</td>\n",
       "      <td>basic</td>\n",
       "      <td>0</td>\n",
       "      <td>en</td>\n",
       "      <td>direct</td>\n",
       "      <td>direct</td>\n",
       "      <td>untracked</td>\n",
       "      <td>Moweb</td>\n",
       "      <td>iPhone</td>\n",
       "      <td>Mobile Safari</td>\n",
       "    </tr>\n",
       "    <tr>\n",
       "      <th>2</th>\n",
       "      <td>xx0ulgorjt</td>\n",
       "      <td>2014-07-01</td>\n",
       "      <td>2014-07-01 00:01:48</td>\n",
       "      <td>NaT</td>\n",
       "      <td>-unknown-</td>\n",
       "      <td>NaN</td>\n",
       "      <td>basic</td>\n",
       "      <td>0</td>\n",
       "      <td>en</td>\n",
       "      <td>direct</td>\n",
       "      <td>direct</td>\n",
       "      <td>linked</td>\n",
       "      <td>Web</td>\n",
       "      <td>Windows Desktop</td>\n",
       "      <td>Chrome</td>\n",
       "    </tr>\n",
       "    <tr>\n",
       "      <th>3</th>\n",
       "      <td>6c6puo6ix0</td>\n",
       "      <td>2014-07-01</td>\n",
       "      <td>2014-07-01 00:02:15</td>\n",
       "      <td>NaT</td>\n",
       "      <td>-unknown-</td>\n",
       "      <td>NaN</td>\n",
       "      <td>basic</td>\n",
       "      <td>0</td>\n",
       "      <td>en</td>\n",
       "      <td>direct</td>\n",
       "      <td>direct</td>\n",
       "      <td>linked</td>\n",
       "      <td>Web</td>\n",
       "      <td>Windows Desktop</td>\n",
       "      <td>IE</td>\n",
       "    </tr>\n",
       "    <tr>\n",
       "      <th>4</th>\n",
       "      <td>czqhjk3yfe</td>\n",
       "      <td>2014-07-01</td>\n",
       "      <td>2014-07-01 00:03:05</td>\n",
       "      <td>NaT</td>\n",
       "      <td>-unknown-</td>\n",
       "      <td>NaN</td>\n",
       "      <td>basic</td>\n",
       "      <td>0</td>\n",
       "      <td>en</td>\n",
       "      <td>direct</td>\n",
       "      <td>direct</td>\n",
       "      <td>untracked</td>\n",
       "      <td>Web</td>\n",
       "      <td>Mac Desktop</td>\n",
       "      <td>Safari</td>\n",
       "    </tr>\n",
       "  </tbody>\n",
       "</table>\n",
       "</div>"
      ],
      "text/plain": [
       "           id date_account_created timestamp_first_active date_first_booking  \\\n",
       "0  5uwns89zht           2014-07-01    2014-07-01 00:00:06                NaT   \n",
       "1  jtl0dijy2j           2014-07-01    2014-07-01 00:00:51                NaT   \n",
       "2  xx0ulgorjt           2014-07-01    2014-07-01 00:01:48                NaT   \n",
       "3  6c6puo6ix0           2014-07-01    2014-07-01 00:02:15                NaT   \n",
       "4  czqhjk3yfe           2014-07-01    2014-07-01 00:03:05                NaT   \n",
       "\n",
       "      gender   age signup_method  signup_flow language affiliate_channel  \\\n",
       "0     FEMALE  35.0      facebook            0       en            direct   \n",
       "1  -unknown-   NaN         basic            0       en            direct   \n",
       "2  -unknown-   NaN         basic            0       en            direct   \n",
       "3  -unknown-   NaN         basic            0       en            direct   \n",
       "4  -unknown-   NaN         basic            0       en            direct   \n",
       "\n",
       "  affiliate_provider first_affiliate_tracked signup_app first_device_type  \\\n",
       "0             direct               untracked      Moweb            iPhone   \n",
       "1             direct               untracked      Moweb            iPhone   \n",
       "2             direct                  linked        Web   Windows Desktop   \n",
       "3             direct                  linked        Web   Windows Desktop   \n",
       "4             direct               untracked        Web       Mac Desktop   \n",
       "\n",
       "   first_browser  \n",
       "0  Mobile Safari  \n",
       "1  Mobile Safari  \n",
       "2         Chrome  \n",
       "3             IE  \n",
       "4         Safari  "
      ]
     },
     "execution_count": 3,
     "metadata": {},
     "output_type": "execute_result"
    }
   ],
   "source": [
    "users_test_df = pd.read_csv('(0)data/test_users.csv', parse_dates=date_variables)\n",
    "users_test_df.head()"
   ]
  },
  {
   "cell_type": "code",
   "execution_count": 4,
   "metadata": {},
   "outputs": [
    {
     "data": {
      "text/html": [
       "<div>\n",
       "<style scoped>\n",
       "    .dataframe tbody tr th:only-of-type {\n",
       "        vertical-align: middle;\n",
       "    }\n",
       "\n",
       "    .dataframe tbody tr th {\n",
       "        vertical-align: top;\n",
       "    }\n",
       "\n",
       "    .dataframe thead th {\n",
       "        text-align: right;\n",
       "    }\n",
       "</style>\n",
       "<table border=\"1\" class=\"dataframe\">\n",
       "  <thead>\n",
       "    <tr style=\"text-align: right;\">\n",
       "      <th></th>\n",
       "      <th>user_id</th>\n",
       "      <th>action</th>\n",
       "      <th>action_type</th>\n",
       "      <th>action_detail</th>\n",
       "      <th>device_type</th>\n",
       "      <th>secs_elapsed</th>\n",
       "    </tr>\n",
       "  </thead>\n",
       "  <tbody>\n",
       "    <tr>\n",
       "      <th>0</th>\n",
       "      <td>d1mm9tcy42</td>\n",
       "      <td>lookup</td>\n",
       "      <td>NaN</td>\n",
       "      <td>NaN</td>\n",
       "      <td>Windows Desktop</td>\n",
       "      <td>319.0</td>\n",
       "    </tr>\n",
       "    <tr>\n",
       "      <th>1</th>\n",
       "      <td>d1mm9tcy42</td>\n",
       "      <td>search_results</td>\n",
       "      <td>click</td>\n",
       "      <td>view_search_results</td>\n",
       "      <td>Windows Desktop</td>\n",
       "      <td>67753.0</td>\n",
       "    </tr>\n",
       "    <tr>\n",
       "      <th>2</th>\n",
       "      <td>d1mm9tcy42</td>\n",
       "      <td>lookup</td>\n",
       "      <td>NaN</td>\n",
       "      <td>NaN</td>\n",
       "      <td>Windows Desktop</td>\n",
       "      <td>301.0</td>\n",
       "    </tr>\n",
       "    <tr>\n",
       "      <th>3</th>\n",
       "      <td>d1mm9tcy42</td>\n",
       "      <td>search_results</td>\n",
       "      <td>click</td>\n",
       "      <td>view_search_results</td>\n",
       "      <td>Windows Desktop</td>\n",
       "      <td>22141.0</td>\n",
       "    </tr>\n",
       "    <tr>\n",
       "      <th>4</th>\n",
       "      <td>d1mm9tcy42</td>\n",
       "      <td>lookup</td>\n",
       "      <td>NaN</td>\n",
       "      <td>NaN</td>\n",
       "      <td>Windows Desktop</td>\n",
       "      <td>435.0</td>\n",
       "    </tr>\n",
       "  </tbody>\n",
       "</table>\n",
       "</div>"
      ],
      "text/plain": [
       "      user_id          action action_type        action_detail  \\\n",
       "0  d1mm9tcy42          lookup         NaN                  NaN   \n",
       "1  d1mm9tcy42  search_results       click  view_search_results   \n",
       "2  d1mm9tcy42          lookup         NaN                  NaN   \n",
       "3  d1mm9tcy42  search_results       click  view_search_results   \n",
       "4  d1mm9tcy42          lookup         NaN                  NaN   \n",
       "\n",
       "       device_type  secs_elapsed  \n",
       "0  Windows Desktop         319.0  \n",
       "1  Windows Desktop       67753.0  \n",
       "2  Windows Desktop         301.0  \n",
       "3  Windows Desktop       22141.0  \n",
       "4  Windows Desktop         435.0  "
      ]
     },
     "execution_count": 4,
     "metadata": {},
     "output_type": "execute_result"
    }
   ],
   "source": [
    "sessions_df = pd.read_csv('(0)data/sessions.csv')\n",
    "sessions_df.head()"
   ]
  },
  {
   "cell_type": "code",
   "execution_count": 5,
   "metadata": {},
   "outputs": [
    {
     "data": {
      "text/html": [
       "<div>\n",
       "<style scoped>\n",
       "    .dataframe tbody tr th:only-of-type {\n",
       "        vertical-align: middle;\n",
       "    }\n",
       "\n",
       "    .dataframe tbody tr th {\n",
       "        vertical-align: top;\n",
       "    }\n",
       "\n",
       "    .dataframe thead th {\n",
       "        text-align: right;\n",
       "    }\n",
       "</style>\n",
       "<table border=\"1\" class=\"dataframe\">\n",
       "  <thead>\n",
       "    <tr style=\"text-align: right;\">\n",
       "      <th></th>\n",
       "      <th>lat_destination</th>\n",
       "      <th>lng_destination</th>\n",
       "      <th>distance_km</th>\n",
       "      <th>destination_km2</th>\n",
       "      <th>destination_language</th>\n",
       "      <th>language_levenshtein_distance</th>\n",
       "    </tr>\n",
       "    <tr>\n",
       "      <th>country_destination</th>\n",
       "      <th></th>\n",
       "      <th></th>\n",
       "      <th></th>\n",
       "      <th></th>\n",
       "      <th></th>\n",
       "      <th></th>\n",
       "    </tr>\n",
       "  </thead>\n",
       "  <tbody>\n",
       "    <tr>\n",
       "      <th>AU</th>\n",
       "      <td>-26.853388</td>\n",
       "      <td>133.275160</td>\n",
       "      <td>15297.7440</td>\n",
       "      <td>7741220.0</td>\n",
       "      <td>eng</td>\n",
       "      <td>0.00</td>\n",
       "    </tr>\n",
       "    <tr>\n",
       "      <th>CA</th>\n",
       "      <td>62.393303</td>\n",
       "      <td>-96.818146</td>\n",
       "      <td>2828.1333</td>\n",
       "      <td>9984670.0</td>\n",
       "      <td>eng</td>\n",
       "      <td>0.00</td>\n",
       "    </tr>\n",
       "    <tr>\n",
       "      <th>DE</th>\n",
       "      <td>51.165707</td>\n",
       "      <td>10.452764</td>\n",
       "      <td>7879.5680</td>\n",
       "      <td>357022.0</td>\n",
       "      <td>deu</td>\n",
       "      <td>72.61</td>\n",
       "    </tr>\n",
       "    <tr>\n",
       "      <th>ES</th>\n",
       "      <td>39.896027</td>\n",
       "      <td>-2.487694</td>\n",
       "      <td>7730.7240</td>\n",
       "      <td>505370.0</td>\n",
       "      <td>spa</td>\n",
       "      <td>92.25</td>\n",
       "    </tr>\n",
       "    <tr>\n",
       "      <th>FR</th>\n",
       "      <td>46.232193</td>\n",
       "      <td>2.209667</td>\n",
       "      <td>7682.9450</td>\n",
       "      <td>643801.0</td>\n",
       "      <td>fra</td>\n",
       "      <td>92.06</td>\n",
       "    </tr>\n",
       "  </tbody>\n",
       "</table>\n",
       "</div>"
      ],
      "text/plain": [
       "                     lat_destination  lng_destination  distance_km  \\\n",
       "country_destination                                                  \n",
       "AU                        -26.853388       133.275160   15297.7440   \n",
       "CA                         62.393303       -96.818146    2828.1333   \n",
       "DE                         51.165707        10.452764    7879.5680   \n",
       "ES                         39.896027        -2.487694    7730.7240   \n",
       "FR                         46.232193         2.209667    7682.9450   \n",
       "\n",
       "                     destination_km2 destination_language   \\\n",
       "country_destination                                          \n",
       "AU                         7741220.0                   eng   \n",
       "CA                         9984670.0                   eng   \n",
       "DE                          357022.0                   deu   \n",
       "ES                          505370.0                   spa   \n",
       "FR                          643801.0                   fra   \n",
       "\n",
       "                     language_levenshtein_distance  \n",
       "country_destination                                 \n",
       "AU                                            0.00  \n",
       "CA                                            0.00  \n",
       "DE                                           72.61  \n",
       "ES                                           92.25  \n",
       "FR                                           92.06  "
      ]
     },
     "execution_count": 5,
     "metadata": {},
     "output_type": "execute_result"
    }
   ],
   "source": [
    "countries_df = pd.read_csv('(0)data/countries.csv', index_col='country_destination')\n",
    "countries_df.head()"
   ]
  },
  {
   "cell_type": "code",
   "execution_count": 6,
   "metadata": {},
   "outputs": [
    {
     "data": {
      "text/html": [
       "<div>\n",
       "<style scoped>\n",
       "    .dataframe tbody tr th:only-of-type {\n",
       "        vertical-align: middle;\n",
       "    }\n",
       "\n",
       "    .dataframe tbody tr th {\n",
       "        vertical-align: top;\n",
       "    }\n",
       "\n",
       "    .dataframe thead th {\n",
       "        text-align: right;\n",
       "    }\n",
       "</style>\n",
       "<table border=\"1\" class=\"dataframe\">\n",
       "  <thead>\n",
       "    <tr style=\"text-align: right;\">\n",
       "      <th></th>\n",
       "      <th>age_bucket</th>\n",
       "      <th>country_destination</th>\n",
       "      <th>gender</th>\n",
       "      <th>population_in_thousands</th>\n",
       "      <th>year</th>\n",
       "    </tr>\n",
       "  </thead>\n",
       "  <tbody>\n",
       "    <tr>\n",
       "      <th>0</th>\n",
       "      <td>100+</td>\n",
       "      <td>AU</td>\n",
       "      <td>male</td>\n",
       "      <td>1.0</td>\n",
       "      <td>2015.0</td>\n",
       "    </tr>\n",
       "    <tr>\n",
       "      <th>1</th>\n",
       "      <td>95-99</td>\n",
       "      <td>AU</td>\n",
       "      <td>male</td>\n",
       "      <td>9.0</td>\n",
       "      <td>2015.0</td>\n",
       "    </tr>\n",
       "    <tr>\n",
       "      <th>2</th>\n",
       "      <td>90-94</td>\n",
       "      <td>AU</td>\n",
       "      <td>male</td>\n",
       "      <td>47.0</td>\n",
       "      <td>2015.0</td>\n",
       "    </tr>\n",
       "    <tr>\n",
       "      <th>3</th>\n",
       "      <td>85-89</td>\n",
       "      <td>AU</td>\n",
       "      <td>male</td>\n",
       "      <td>118.0</td>\n",
       "      <td>2015.0</td>\n",
       "    </tr>\n",
       "    <tr>\n",
       "      <th>4</th>\n",
       "      <td>80-84</td>\n",
       "      <td>AU</td>\n",
       "      <td>male</td>\n",
       "      <td>199.0</td>\n",
       "      <td>2015.0</td>\n",
       "    </tr>\n",
       "  </tbody>\n",
       "</table>\n",
       "</div>"
      ],
      "text/plain": [
       "  age_bucket country_destination gender  population_in_thousands    year\n",
       "0       100+                  AU   male                      1.0  2015.0\n",
       "1      95-99                  AU   male                      9.0  2015.0\n",
       "2      90-94                  AU   male                     47.0  2015.0\n",
       "3      85-89                  AU   male                    118.0  2015.0\n",
       "4      80-84                  AU   male                    199.0  2015.0"
      ]
     },
     "execution_count": 6,
     "metadata": {},
     "output_type": "execute_result"
    }
   ],
   "source": [
    "buckets_df = pd.read_csv('(0)data/age_gender_bkts.csv', parse_dates=['year'])\n",
    "buckets_df.head()"
   ]
  },
  {
   "cell_type": "markdown",
   "metadata": {},
   "source": [
    "## Data Insights & Visualizations \n",
    "Here we will investigate some common questions such as:\n",
    "* What percentage of missing data do we have for each column?\n",
    "* Are all missing values correctly represented in a way that can `pandas` can interpret them as NaNs?\n",
    "* Are there serious outliers in the data that could potentially affect performance?\n",
    "* Do we need to drop unrelated columns, fix values, and do other common cleaning operations to make sense of data?\n",
    "* Are there easily identifiable patterns via graphs and plots? How complex is the data at hand?\n",
    "* Do we have a balanced dataset or an imbalanced dataset?\n",
    "\n",
    "It could be argued that the aim of automated feature engineering should be to minimize our attemps to visualize these patterns and observations ourselves, but as will be shown later, it seems that these basic operation still come in handy."
   ]
  },
  {
   "cell_type": "code",
   "execution_count": 7,
   "metadata": {},
   "outputs": [
    {
     "name": "stdout",
     "output_type": "stream",
     "text": [
      "We have 213451 users in the training set and 62096 in the test set.\n",
      "In total we have 275547 users.\n"
     ]
    },
    {
     "data": {
      "text/plain": [
       "date_first_booking         67.733998\n",
       "age                        42.412365\n",
       "first_affiliate_tracked     2.208335\n",
       "country_destination        22.535538\n",
       "dtype: float64"
      ]
     },
     "execution_count": 7,
     "metadata": {},
     "output_type": "execute_result"
    }
   ],
   "source": [
    "print(\"We have\", users_df.shape[0], \"users in the training set and\", users_test_df.shape[0], \"in the test set.\")\n",
    "print(\"In total we have\", users_df.shape[0] + users_test_df.shape[0], \"users.\")\n",
    "# Display missing data percentages per column (%)\n",
    "all_users = pd.concat((users_df, users_test_df), axis=0, ignore_index=True, sort=False)\n",
    "nan_percentages = (all_users.isnull().sum() / all_users.shape[0]) * 100\n",
    "nan_percentages[nan_percentages > 0]"
   ]
  },
  {
   "cell_type": "code",
   "execution_count": 8,
   "metadata": {},
   "outputs": [
    {
     "data": {
      "text/plain": [
       "count    158681.000000\n",
       "mean         47.145310\n",
       "std         142.629468\n",
       "min           1.000000\n",
       "25%          28.000000\n",
       "50%          33.000000\n",
       "75%          42.000000\n",
       "max        2014.000000\n",
       "Name: age, dtype: float64"
      ]
     },
     "execution_count": 8,
     "metadata": {},
     "output_type": "execute_result"
    }
   ],
   "source": [
    "all_users['age'].describe()"
   ]
  },
  {
   "cell_type": "code",
   "execution_count": 9,
   "metadata": {},
   "outputs": [
    {
     "data": {
      "text/plain": [
       "-unknown-    129480\n",
       "FEMALE        77524\n",
       "MALE          68209\n",
       "OTHER           334\n",
       "Name: gender, dtype: int64"
      ]
     },
     "execution_count": 9,
     "metadata": {},
     "output_type": "execute_result"
    }
   ],
   "source": [
    "all_users['gender'].value_counts()"
   ]
  },
  {
   "cell_type": "code",
   "execution_count": 10,
   "metadata": {},
   "outputs": [
    {
     "data": {
      "image/png": "[encoded data removed]",
      "text/plain": [
       "<Figure size 432x288 with 1 Axes>"
      ]
     },
     "metadata": {
      "needs_background": "light"
     },
     "output_type": "display_data"
    }
   ],
   "source": [
    "# Plot gender distributions for each country destination\n",
    "women, men = sum(all_users['gender'] == 'FEMALE'), sum(all_users['gender'] == 'MALE')\n",
    "female_destinations = all_users.loc[all_users['gender'] == 'FEMALE', 'country_destination'].value_counts() / women * 100\n",
    "male_destinations = all_users.loc[all_users['gender'] == 'MALE', 'country_destination'].value_counts() / men * 100\n",
    "\n",
    "male_destinations.plot(kind='bar', width=0.3, color='#4DD3C9', position=0, label='Male', rot=0)\n",
    "female_destinations.plot(kind='bar', width=0.3, color='#FFA35D', position=1, label='Female', rot=0)\n",
    "plt.legend()\n",
    "plt.xlabel('Destination Country')\n",
    "plt.ylabel('Bookıngs per Gender (%)')\n",
    "plt.show()"
   ]
  },
  {
   "cell_type": "code",
   "execution_count": 11,
   "metadata": {},
   "outputs": [
    {
     "data": {
      "text/plain": [
       "Text(0, 0.5, 'Bookings (%)')"
      ]
     },
     "execution_count": 11,
     "metadata": {},
     "output_type": "execute_result"
    },
    {
     "data": {
      "image/png": "[encoded data removed]",
      "text/plain": [
       "<Figure size 432x288 with 1 Axes>"
      ]
     },
     "metadata": {
      "needs_background": "light"
     },
     "output_type": "display_data"
    }
   ],
   "source": [
    "# Plot travel distributions\n",
    "destination_percentage = all_users.country_destination.value_counts() / all_users.shape[0] * 100\n",
    "destination_percentage.plot(kind='bar',color='#FD5C64', rot=0)\n",
    "plt.xlabel('Destination Country')\n",
    "plt.ylabel('Bookings (%)')"
   ]
  },
  {
   "cell_type": "code",
   "execution_count": 12,
   "metadata": {},
   "outputs": [
    {
     "data": {
      "image/png": "[encoded data removed]",
      "text/plain": [
       "<Figure size 432x288 with 1 Axes>"
      ]
     },
     "metadata": {
      "needs_background": "light"
     },
     "output_type": "display_data"
    }
   ],
   "source": [
    "age_threshold = all_users['age'].median()\n",
    "younger = sum(all_users.loc[all_users['age'] < age_threshold, 'country_destination'].value_counts())\n",
    "older = sum(all_users.loc[all_users['age'] >= age_threshold, 'country_destination'].value_counts())\n",
    "younger_destinations = all_users.loc[all_users['age'] < age_threshold, 'country_destination'].value_counts() / younger * 100\n",
    "older_destinations = all_users.loc[all_users['age'] >= age_threshold, 'country_destination'].value_counts() / older * 100\n",
    "\n",
    "younger_destinations.plot(kind='bar', width=0.4, color='#63EA55', position=0, label='Young (age < 45)', rot=0)\n",
    "older_destinations.plot(kind='bar', width=0.4, color='#4DD3C9', position=1, label='Old (age >= 45) ', rot=0)\n",
    "plt.legend()\n",
    "plt.xlabel('Destination Country')\n",
    "plt.ylabel('Percentage')\n",
    "plt.show()"
   ]
  },
  {
   "cell_type": "markdown",
   "metadata": {},
   "source": [
    "## Data Cleaning\n",
    "Chances are that we will have to do some manual data processing no matter the quality and the quantity of the packages or utilities we have used for data processing. For example: \n",
    "\n",
    "* The 'date_first_booking' column for the test data frame column are all missing (NaN). While using the open source Python package `h2o`, we will have to make sure that we don't pass any empty columns to it.\n",
    "* Often data sets contain different representations (such as empty character '', strings like 'UNKNOWN' or 'EMPTY') and a function that could be found in `utils.py` may come in handy. This is the case with the data frames we use, and the `head()` statements above showcase this.\n",
    "* As observed in the previous section, age columns contains some seriously illogical values. Simply setting these outlier ages (say > 110) to a threshold (say 110) could be a bad approach. A better approach would be to completely remove these cases, and this works in this example as there are only 779 users whose age is greater than 110 (a relatively low number when compared to the data we have). Note that as we don't want to lose any test cases, we will instead set outlier values to NaN (missing values) in test set."
   ]
  },
  {
   "cell_type": "code",
   "execution_count": 13,
   "metadata": {},
   "outputs": [],
   "source": [
    "# Remove variables that are all empty for either the training or test sets\n",
    "users_df.drop('date_first_booking', axis=1, inplace=True)\n",
    "users_test_df.drop('date_first_booking', axis=1, inplace=True)\n",
    "# Convert arbitrary unknown values and representations to np.nan for uniformity\n",
    "users_df, users_test_df = unknown_to_nan(df=users_df), unknown_to_nan(df=users_test_df)\n",
    "# Remove rows with ages that don't make sense from training set\n",
    "users_df = users_df[((users_df['age'] >= 15) & (users_df['age'] <= 110)) | (users_df['age'].isnull())]\n",
    "# Set illogical ages to NaN values to be imputed for testing set\n",
    "users_test_df['age'] = users_test_df['age'].apply(lambda x: np.nan if x > 110 else x)\n",
    "users_test_df['age'] = users_test_df['age'].apply(lambda x: np.nan if x < 15 else x)"
   ]
  },
  {
   "cell_type": "markdown",
   "metadata": {},
   "source": [
    "### Outlier Removal\n",
    "Outlier removal should always be a viable question in data science problems. They could be introduced by measurement errors, type (cm, m, kg) conversion mistakes, equipment error, or they could simply be *over-represented* or *under-represented* rare-cases in a small sample size. Depending on their nature, outlier removal could either increase the accuracy of model allowing it to generalize better, or it could completely wreck training preventing the model from seeing the bigger picture. Although we won't be going down this road for the problem at hand due to low number of numerically representable variables and the difficulty of defining outliers due to a large feature space, below is some general information.\n",
    "\n",
    "Outlier removal methods can be breaken down into two: i) *univariate* and ii) *multivariate*. Univariate methods include **Tukey's Fences (w/ IQR)**, **Median Absolute Deviation (MAD) Strategy**, and **Z-Score Testing**. Notice that most of these methods rely on the assumption that the feature vector is *normally distributed*. Applying these methods to columns (individually) would result in a huge loss of data, and of course categorical variables will be immune to these methods. Hence, the machine learning literature (under the domain name of *anomaly detection*) relies on multivariate methods such as **Gaussian Mixture Model (GMM)**, **Probabilistic Principal Component Analysis (PPCA)**, and **Local Outlier Factor (LOF)**. A more comphresensive analysis and survey of the literature can be found in *A comparative evaluation of outlier detection algorithms: experiments and analyses* by Remi Domingues et al. Moreover, the Python package `pyOD` [(check docs)](https://pyod.readthedocs.io) covers most of the modern approaches mentioned in the literature.\n",
    "\n",
    "Moreover, `h2o` framework has an implementation of [Isolation Forest](http://docs.h2o.ai/h2o/latest-stable/h2o-docs/data-science/if.html) which is primarily used for anomaly detection."
   ]
  },
  {
   "cell_type": "markdown",
   "metadata": {},
   "source": [
    "## Data Imputation\n",
    "Data imputation is an interesting and a surprisingly broad subject. Depending on the model type we are using, it is sometimes borderline necessary to perform data imputation as the model can't handle missing data. One common example is the **Support Vector Machines (SVM)** in R and Python. (NOTE: There exists different versions of this algorithm that *could* handle missing data but these are not supported by the mainstream packages yet.) Or, it could be the case that our model handles missing data, but it does so by assuming that *unknown* values are also seperate cases. Two common examples are some of the implementations of **Random Forest** and **Boosting** algorithms. (NOTE: Traditionally some algorithms work better with missing values than others; e.g. XGBoost) More could be read about the underlying theory in *Missing Data Analysis: Making It Work in the Real World* by John W. Graham. Moreover, the [docs](http://docs.h2o.ai/driverless-ai/latest-stable/docs/userguide/missing-values-handling.html) of `h2o` suggests that certain models included in the framework apply different types of imputation strategies when handling missing data. This might be problematic, as the model *leaderboard* `AutoML()` class displays make no mention of this whatsoever. This further adds motivation to this section.\n",
    "\n",
    "One common approach taken for missing data imputation is taking either the **mean** and **median** of the columns instead of the NaN values for numerical variables and **mode** of categorical variables. Currently, data imputation functionalities of `sklearn` and `h2o` support only these simple univariate operations. (NOTE: The `IterativeImputer()` class in `sklearn` *was* an exception, but it seems like this class is currently out of the development cycle.) In *Best Practices for Missing Data Management in Counseling Psychology* by Gabriel L. Schlomer et al., authors noted that experts strongly advise against these methods as they heavily underestimate the variance and covariance (and correlations as a result). Here, this argument ties in with whether the missing patterns in the dataset are **MCAR** (missing completely at random), **MAR** (missing at random), and **MNAR** (missing not at random). Both mentioned papers include adequate definitions of these concepts, and we have also included a supplementary implementation of *Little's MCAR (Hypothesis) Test* in `utils.py`.\n",
    "\n",
    "Roughly, the idea is that although simpler univariate methods add bias no matter what, their effect will be less when the data is missing completely at random. Nevertheless, the literature adapts solutions such as **Stochastic** and **Non-stochastic Regression**, **Expectization Maximization (EM)**, and perhaps more popularly **Multivariate Imputations by Chained Equations (MICE)**. Here, we include a more simpler and less time-consuming, yet still multi-variate, imputation method: **K-nearest Neighbours**. The source code can be found in `imputers.py`. Datetime features are ingored in the imputation for minimizing cost of computation."
   ]
  },
  {
   "cell_type": "code",
   "execution_count": 14,
   "metadata": {},
   "outputs": [
    {
     "name": "stdout",
     "output_type": "stream",
     "text": [
      "Columns with missing values are:  ['gender', 'age', 'first_affiliate_tracked', 'first_browser']\n"
     ]
    }
   ],
   "source": [
    "missing_columns = users_df.columns[users_df.isnull().any()].values.tolist()\n",
    "print(\"Columns with missing values are: \", missing_columns)\n",
    "imputer = KNNImputer(k=7)\n",
    "imputer.fit(df=users_df, \n",
    "            impute_variables=missing_columns,\n",
    "            ignore_features=['id', 'date_account_created', 'timestamp_first_active', 'country_destination'])\n",
    "users_df, users_test_df = imputer.impute(df=users_df), imputer.impute(df=users_test_df)"
   ]
  },
  {
   "cell_type": "markdown",
   "metadata": {},
   "source": [
    "## Manual Feature Engineering\n",
    "As we shall see, the uniqueness of `featuretools` comes from the way it applies to relational data sets, no matter how large they may be. Rather than leaving the tedious task of coming up with new features such as the *average time between two events* and *the overall trends seen in a users sign-ins* to the data scientist, `featuretools` aim to automate this process. Yet, there are also relations that can't be extracted with `featuretools` via its primitives. One such example is showcased below. In a *R-like pseudocodic language*, we will `join` 'age' and 'gender' columns in the training and testing data frames and map them to age buckets (ranges such as 45-49) with `age_to_age_bucket()` method that can be found in `utils.py`. Then, we will `join` on 'age_bucket' and 'gender' in buckets data frame and then perform `groupby` and `gather` operations. By comparing what we get below versus what we had for the buckets data frame, and it should be pretty clear how this new buckets data frame can link to the users training and test data frames with a **one-to-many** relationship. Values under each country columns represent the total population for that specific age-gender bucket. Fortunately, `featuretools` can handle the rest."
   ]
  },
  {
   "cell_type": "code",
   "execution_count": 15,
   "metadata": {},
   "outputs": [],
   "source": [
    "# Create age gender buckets in training & test data frames\n",
    "users_df['age_gender_bucket'] = users_df['age'].apply(age_to_age_bucket) + \\\n",
    "                                users_df['gender'].apply(lambda x: x.lower())\n",
    "users_test_df['age_gender_bucket'] = users_test_df['age'].apply(age_to_age_bucket) + \\\n",
    "                                     users_test_df['gender'].apply(lambda x: x.lower())\n",
    "# Create age gender buckets in buckets data frame\n",
    "buckets_df = groupby_and_gather(raw_df=buckets_df)\n",
    "# Observe the manually engineered data frame\n",
    "buckets_df.head()"
   ]
  },
  {
   "cell_type": "markdown",
   "metadata": {},
   "source": [
    "## Save Progress\n",
    "With this introductory notebook, our saved data is gone through imputation, cleaning (to the extent of our knowledge without any domain expertise), and features that are manually engineered."
   ]
  },
  {
   "cell_type": "code",
   "execution_count": null,
   "metadata": {},
   "outputs": [],
   "source": [
    "users_df.to_csv('(1)data_manual_ops/train_users.csv', index=None)\n",
    "users_test_df.to_csv('(1)data_manual_ops/test_users.csv', index=None)\n",
    "buckets_df.to_csv('(1)data_manual_ops/age_gender_bkts.csv', index=None)"
   ]
  }
 ],
 "metadata": {
  "kernelspec": {
   "display_name": "Python 3",
   "language": "python",
   "name": "python3"
  },
  "language_info": {
   "codemirror_mode": {
    "name": "ipython",
    "version": 3
   },
   "file_extension": ".py",
   "mimetype": "text/x-python",
   "name": "python",
   "nbconvert_exporter": "python",
   "pygments_lexer": "ipython3",
   "version": "3.7.3"
  }
 },
 "nbformat": 4,
 "nbformat_minor": 2
}
